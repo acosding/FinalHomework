{
 "cells": [
  {
   "cell_type": "code",
   "execution_count": 2,
   "id": "1760565e-86f2-4b10-babc-13f76b5f12b7",
   "metadata": {},
   "outputs": [],
   "source": [
    "# 导入相应的库(未完)\n",
    "import torch\n",
    "import torchvision\n",
    "import torchvision.transforms as transforms\n",
    "from torch import nn\n",
    "from torch.utils.data import DataLoader"
   ]
  },
  {
   "cell_type": "code",
   "execution_count": null,
   "id": "81c831c5-afe7-440e-bc60-fc97d8015300",
   "metadata": {},
   "outputs": [],
   "source": [
    "# 定义超参数\n",
    "train_batch_size = 100\n",
    "test_batch_size = 100\n",
    "learning_rate = 0.1\n",
    "num_epoches = 50"
   ]
  },
  {
   "cell_type": "code",
   "execution_count": null,
   "id": "be5d7e82-1351-4748-8aff-3ca8a185993f",
   "metadata": {},
   "outputs": [],
   "source": [
    "# 定义预处理函数\n",
    "transform = transforms.Compose([\n",
    "    #将图像数据转换为张量\n",
    "    transforms.ToTensor(), \n",
    "    ##将图像数据归一化到[-1,1]\n",
    "    #transforms.Normalize((0.5, 0.5, 0.5), (0.5, 0.5, 0.5))\n",
    "])  \n",
    "#下载数据，并对数据进行预处理\n",
    "mnist_train= torchvision.datasets.CIFAR10(root='./data', train=True, transform=transform(),download=True) \n",
    "mnist_test= torchvision.datasets.CIFAR10(root='./data', train=False, transform=transform(),download=True)\n",
    "#得到一个生成器\n",
    "train_loader = DataLoader(mnist_train, batch_size=train_batch_size)\n",
    "test_loader = DataLoader(mnist_test, batch_size=test_batch_size)"
   ]
  },
  {
   "cell_type": "code",
   "execution_count": null,
   "id": "0f1df2ff-a765-42dd-b105-bf5ddec8b994",
   "metadata": {},
   "outputs": [],
   "source": [
    "# 构建模型\n",
    "class Net(nn.Module):\n",
    "    \"\"\"\n",
    "    使用sequential构建网络，Sequential()函数的功能是将网络的层组合到一起\n",
    "    \"\"\"\n",
    "    def __init__():\n",
    "        ...\n",
    "    def forward():\n",
    "        ..."
   ]
  },
  {
   "cell_type": "code",
   "execution_count": null,
   "id": "aa1b0ec5-314d-42d0-86c2-0b53e3551164",
   "metadata": {},
   "outputs": [],
   "source": [
    "# 可视化源数据"
   ]
  },
  {
   "cell_type": "code",
   "execution_count": null,
   "id": "3d2a4789-d10d-48c1-8566-ca7a55495258",
   "metadata": {},
   "outputs": [],
   "source": [
    "# 训练模型并绘制Loss函数曲线\n"
   ]
  },
  {
   "cell_type": "code",
   "execution_count": null,
   "id": "12f96fb0-2e8c-4f63-a81f-2b6c493fd336",
   "metadata": {},
   "outputs": [],
   "source": [
    "# 测试模型在一个或数个batch的分类情况，并输出图像及对应预测名称，打印正确率\n"
   ]
  }
 ],
 "metadata": {
  "kernelspec": {
   "display_name": "Python 3",
   "language": "python",
   "name": "python3"
  },
  "language_info": {
   "codemirror_mode": {
    "name": "ipython",
    "version": 3
   },
   "file_extension": ".py",
   "mimetype": "text/x-python",
   "name": "python",
   "nbconvert_exporter": "python",
   "pygments_lexer": "ipython3",
   "version": "3.12.8"
  },
  "widgets": {
   "application/vnd.jupyter.widget-state+json": {
    "state": {},
    "version_major": 2,
    "version_minor": 0
   }
  }
 },
 "nbformat": 4,
 "nbformat_minor": 5
}
